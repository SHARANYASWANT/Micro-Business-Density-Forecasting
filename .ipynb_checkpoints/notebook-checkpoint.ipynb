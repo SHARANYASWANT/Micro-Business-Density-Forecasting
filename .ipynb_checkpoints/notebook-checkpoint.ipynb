{
 "cells": [
  {
   "cell_type": "code",
   "execution_count": null,
   "id": "c615a721",
   "metadata": {},
   "outputs": [],
   "source": [
    "import tensorflow as tf\n",
    "import os\n",
    "import pandas as pd\n",
    "import numpy as np\n",
    "import matplotlib.pyplot as plt\n",
    "import seaborn as sns\n",
    "from datetime import datetime"
   ]
  },
  {
   "cell_type": "markdown",
   "id": "e44b85ad",
   "metadata": {},
   "source": [
    "<h3> Read the Data </h3>"
   ]
  },
  {
   "cell_type": "code",
   "execution_count": null,
   "id": "f81076b1",
   "metadata": {},
   "outputs": [],
   "source": [
    "df = pd.read_csv(\"data/train.csv\")\n",
    "df_test = pd.read_csv(\"data/test.csv\")\n",
    "df.head()"
   ]
  },
  {
   "cell_type": "code",
   "execution_count": null,
   "id": "12b4f341",
   "metadata": {},
   "outputs": [],
   "source": [
    "df_test.head()"
   ]
  },
  {
   "cell_type": "markdown",
   "id": "e67ab04b",
   "metadata": {},
   "source": [
    "<h3> EDA </h3>"
   ]
  },
  {
   "cell_type": "code",
   "execution_count": null,
   "id": "4b8ac11a",
   "metadata": {},
   "outputs": [],
   "source": [
    "df.info()"
   ]
  },
  {
   "cell_type": "code",
   "execution_count": null,
   "id": "2d29bcf8",
   "metadata": {},
   "outputs": [],
   "source": [
    "df[\"cfips\"].value_counts()"
   ]
  },
  {
   "cell_type": "code",
   "execution_count": null,
   "id": "af130a04",
   "metadata": {},
   "outputs": [],
   "source": [
    "df_test[\"cfips\"].value_counts()"
   ]
  },
  {
   "cell_type": "code",
   "execution_count": null,
   "id": "f494e599",
   "metadata": {},
   "outputs": [],
   "source": [
    "len(df[\"first_day_of_month\"].value_counts())"
   ]
  },
  {
   "cell_type": "code",
   "execution_count": null,
   "id": "545330a4",
   "metadata": {},
   "outputs": [],
   "source": [
    "sample_5 = df[df[\"cfips\"].isin(df[\"cfips\"].sample(1).values)]\n",
    "sample_5.set_index('first_day_of_month', inplace=True)\n",
    "\n",
    "sns.set_theme(\"paper\")\n",
    "fig, ax = plt.subplots(figsize = (12,6))\n",
    "fig = sns.lineplot(x='first_day_of_month', y='microbusiness_density', data=sample_5, markers=True)\n",
    "ax.set_title(sample_5[\"cfips\"].values[0])\n",
    "labels_ = [x[:7] for x in sample_5.index]\n",
    "ax.set_xticklabels(labels = labels_, rotation=50, ha='right')\n",
    "plt.show()"
   ]
  },
  {
   "cell_type": "code",
   "execution_count": null,
   "id": "67b01176",
   "metadata": {},
   "outputs": [],
   "source": [
    "def generate_train_data(data, window=38) :\n",
    "    train = []\n",
    "    train_y = []\n",
    "    cfips_id = data[\"cfips\"].unique()\n",
    "    for x in data[\"cfips\"].unique() :\n",
    "        data_x = data[data[\"cfips\"] == x].set_index(\"first_day_of_month\")\n",
    "        train.append(data_x[\"microbusiness_density\"].values[:38])\n",
    "        train_y.append(data_x[\"microbusiness_density\"].values[38])\n",
    "    \n",
    "    return cfips_id, train, train_y\n",
    "    "
   ]
  },
  {
   "cell_type": "code",
   "execution_count": null,
   "id": "9d0c80f6",
   "metadata": {
    "collapsed": true,
    "jupyter": {
     "outputs_hidden": true
    }
   },
   "outputs": [],
   "source": [
    "cfips_id, train, y_train = generate_train_data(df)\n",
    "train"
   ]
  },
  {
   "cell_type": "code",
   "execution_count": null,
   "id": "d1dbedcc",
   "metadata": {},
   "outputs": [],
   "source": [
    "train = np.array(train)\n",
    "y_train = np.array(y_train)"
   ]
  },
  {
   "cell_type": "code",
   "execution_count": null,
   "id": "bd0a1b39",
   "metadata": {},
   "outputs": [],
   "source": [
    "def create_model():\n",
    "    input_shape = (38,1)\n",
    "    \n",
    "    model = tf.keras.Sequential([\n",
    "        tf.keras.layers.Input(shape=input_shape),\n",
    "        tf.keras.layers.LSTM(64, return_sequences=True),\n",
    "        tf.keras.layers.LSTM(64, return_sequences=True),\n",
    "        tf.keras.layers.LSTM(64, return_sequences=True),\n",
    "        tf.keras.layers.LSTM(64, return_sequences=True),\n",
    "        tf.keras.layers.LSTM(64, return_sequences=True),\n",
    "        tf.keras.layers.LSTM(64),\n",
    "        tf.keras.layers.Dense(1)\n",
    "    ])\n",
    "    \n",
    "    model.compile(optimizer='adam', loss='mae')\n",
    "    \n",
    "    return model"
   ]
  },
  {
   "cell_type": "code",
   "execution_count": null,
   "id": "6a406dcd",
   "metadata": {},
   "outputs": [],
   "source": [
    "model = create_model()\n",
    "history = model.fit(train, y_train, epochs=100)"
   ]
  },
  {
   "cell_type": "code",
   "execution_count": null,
   "id": "d6c5f66a",
   "metadata": {},
   "outputs": [],
   "source": [
    "x = []\n",
    "for ix in df[\"cfips\"].unique() :\n",
    "    data_x = df[df[\"cfips\"] == ix].set_index(\"first_day_of_month\")\n",
    "    x.append([ix, data_x[\"microbusiness_density\"].values])"
   ]
  },
  {
   "cell_type": "code",
   "execution_count": null,
   "id": "4b356526",
   "metadata": {},
   "outputs": [],
   "source": [
    "predicted_result = []\n",
    "for index,row in df_test.iterrows():\n",
    "    cfips_idx = 0\n",
    "    for i in range(len(x)) :\n",
    "        if x[i][0] == row[\"cfips\"] :\n",
    "            cfips_idx = i\n",
    "    predict = model.predict(np.array([x[cfips_idx][1][-38:]]))[0][0]\n",
    "    np.append(x[cfips_idx][1] , predict)\n",
    "    predicted_result.append(predict)\n",
    "\n",
    "len(predicted_result)"
   ]
  },
  {
   "cell_type": "code",
   "execution_count": null,
   "id": "6e07aaad",
   "metadata": {},
   "outputs": [],
   "source": [
    "df_test[\"microbusiness_density\"] = predicted_result\n",
    "df_test.head()"
   ]
  },
  {
   "cell_type": "code",
   "execution_count": null,
   "id": "8ca284f2",
   "metadata": {},
   "outputs": [],
   "source": [
    "df_tested = pd.read_csv(\"data/revealed_test.csv\")\n",
    "df_tested.head()"
   ]
  },
  {
   "cell_type": "code",
   "execution_count": null,
   "id": "0fa2ba83",
   "metadata": {},
   "outputs": [],
   "source": [
    "result = df_tested.set_index(\"row_id\").join(df_test.set_index(\"row_id\"), lsuffix=\"_true\", rsuffix=\"_predict\")\n",
    "result.head()"
   ]
  },
  {
   "cell_type": "code",
   "execution_count": null,
   "id": "41820528",
   "metadata": {},
   "outputs": [],
   "source": [
    "sum_mae = 0\n",
    "for index,row in result.iterrows():\n",
    "    sum_mae += np.absolute(row[\"microbusiness_density_predict\"] - row[\"microbusiness_density_true\"])\n",
    "mae = sum_mae/result.shape[0]"
   ]
  },
  {
   "cell_type": "code",
   "execution_count": null,
   "id": "7f0c047b",
   "metadata": {},
   "outputs": [],
   "source": [
    "mae"
   ]
  },
  {
   "cell_type": "code",
   "execution_count": null,
   "id": "f1ae2bcf",
   "metadata": {},
   "outputs": [],
   "source": [
    "df_test[[\"row_id\",\"microbusiness_density\"]].to_csv(\"data/submission.csv\", index=False)"
   ]
  },
  {
   "cell_type": "code",
   "execution_count": null,
   "id": "f18aa2ee",
   "metadata": {},
   "outputs": [],
   "source": []
  }
 ],
 "metadata": {
  "kernelspec": {
   "display_name": "Python 3",
   "language": "python",
   "name": "python3"
  },
  "language_info": {
   "codemirror_mode": {
    "name": "ipython",
    "version": 3
   },
   "file_extension": ".py",
   "mimetype": "text/x-python",
   "name": "python",
   "nbconvert_exporter": "python",
   "pygments_lexer": "ipython3",
   "version": "3.12.4"
  }
 },
 "nbformat": 4,
 "nbformat_minor": 5
}
